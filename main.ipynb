{
 "cells": [
  {
   "cell_type": "code",
   "execution_count": null,
   "id": "initial_id",
   "metadata": {
    "collapsed": true
   },
   "outputs": [],
   "source": [
    "import time\n",
    "import datetime\n",
    "import pandas as pd\n",
    "import os\n",
    "import openai\n",
    "\n",
    "from entities import whatsapp_comands as wc\n",
    "from models import classes\n",
    "\n",
    "\n",
    "openai.api_key = os.getenv('OPENAI_API_KEY')\n",
    "base_path = f'ct_files/input/BQ.xlsx'\n",
    "output_path = f'ct_files/output/OQ-{datetime.date.today()}.xlsx'"
   ]
  },
  {
   "cell_type": "code",
   "execution_count": null,
   "outputs": [],
   "source": [
    "if __name__ == '__main__':\n",
    "    wc.star_robot()"
   ],
   "metadata": {
    "collapsed": false
   },
   "id": "3628bbecd65e669c"
  },
  {
   "cell_type": "code",
   "execution_count": null,
   "outputs": [],
   "source": [
    "questions_df = pd.read_excel(base_path)"
   ],
   "metadata": {
    "collapsed": false
   },
   "id": "ee9290cc8aba4e7e"
  },
  {
   "cell_type": "code",
   "execution_count": 28,
   "outputs": [],
   "source": [
    "start = 0 \n",
    "interactions = []\n",
    "\n",
    "for index, row in questions_df.iterrows():\n",
    "    if index >= start:\n",
    "        questions = row['Questions']\n",
    "        expected_answer = row['Expected_Answer']\n",
    "        \n",
    "        wc.send_message(questions)\n",
    "        message_sent = questions\n",
    "        actual_message = ''\n",
    "        start_time = time.time()\n",
    "        \n",
    "        while True: \n",
    "            actual_message = wc.get_last_message()\n",
    "            time.sleep(1)\n",
    "            if actual_message != message_sent and actual_message != 'Espere um minuto...':\n",
    "                end_time = time.time()\n",
    "                elapsed_time = end_time - start_time\n",
    "                elapsed_time_formatted = \"{:.2f}\".format(elapsed_time)\n",
    "                wc.open_read_more()\n",
    "                time.sleep(2)\n",
    "                \n",
    "                interactions.append(classes.Interaction(questions, expected_answer, actual_message, elapsed_time_formatted, ''))\n",
    "                break\n",
    "\n",
    "interactions_df = pd.DataFrame([{\n",
    "    'Question': interaction.question,\n",
    "    'Expected_Message': interaction.expected_message,\n",
    "    'Answer': interaction.answer,\n",
    "    'Answer_Time': interaction.answer_time,\n",
    "    'Simalirity': interaction.simalirity\n",
    "} for interaction in interactions])\n",
    "interactions_df.to_excel(output_path, index=False)"
   ],
   "metadata": {
    "collapsed": false,
    "ExecuteTime": {
     "end_time": "2023-11-18T09:45:49.271730700Z",
     "start_time": "2023-11-18T09:45:25.194710800Z"
    }
   },
   "id": "e2c0ce8e7e11728c"
  },
  {
   "cell_type": "code",
   "execution_count": null,
   "outputs": [],
   "source": [
    "def validator(text1, text2, model=\"gpt-3.5-turbo\"):\n",
    "    prompt = f\"\"\"\n",
    "        # Mission\n",
    "        Your sole mission is to compare two distinct texts and provide a numerical similarity score ranging from 0 to 1, reflecting the degree of similarity between these texts. \n",
    "        Please refrain from adding comments and only furnish the numeric value with 2 numbers after the dot.\n",
    "        DO NOT ADD any comentary like \"Similatiry score: \"\n",
    "        \n",
    "        Text 1: {text1} \n",
    "        Text 2: {text2}\n",
    "        \"\"\"\n",
    "\n",
    "    messages = [{'role': \"user\", 'content': prompt}]\n",
    "    response = openai.ChatCompletion.create(\n",
    "        model=model,\n",
    "        messages=messages,\n",
    "        temperature=0,\n",
    "    )\n",
    "    return response.choices[0].message[\"content\"]"
   ],
   "metadata": {
    "collapsed": false
   },
   "id": "7e265b6fbd253015"
  },
  {
   "cell_type": "code",
   "execution_count": null,
   "outputs": [],
   "source": [
    "# Generate a xlsx file with a template for the questions\n",
    "generate_df = pd.DataFrame(columns=['Questions', 'Expected_Questions'])\n",
    "generate_df.to_excel(base_path, index=False)"
   ],
   "metadata": {
    "collapsed": false
   },
   "id": "5039802fae4e9460"
  }
 ],
 "metadata": {
  "kernelspec": {
   "display_name": "Python 3",
   "language": "python",
   "name": "python3"
  },
  "language_info": {
   "codemirror_mode": {
    "name": "ipython",
    "version": 2
   },
   "file_extension": ".py",
   "mimetype": "text/x-python",
   "name": "python",
   "nbconvert_exporter": "python",
   "pygments_lexer": "ipython2",
   "version": "2.7.6"
  }
 },
 "nbformat": 4,
 "nbformat_minor": 5
}
